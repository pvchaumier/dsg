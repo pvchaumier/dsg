{
 "cells": [
  {
   "cell_type": "code",
   "execution_count": 2,
   "metadata": {
    "collapsed": false
   },
   "outputs": [
    {
     "name": "stderr",
     "output_type": "stream",
     "text": [
      "Using gpu device 0: GeForce GTX TITAN X (CNMeM is disabled, CuDNN 4004)\n"
     ]
    }
   ],
   "source": [
    "import os\n",
    "import sys\n",
    "import time\n",
    "\n",
    "import numpy as np\n",
    "import matplotlib.pyplot as plt\n",
    "import scipy\n",
    "import cv2\n",
    "import theano\n",
    "import theano.tensor as T\n",
    "\n",
    "%matplotlib inline\n",
    "import matplotlib\n",
    "\n",
    "import theano.sandbox.cuda\n",
    "theano.sandbox.cuda.use(\"gpu0\")"
   ]
  },
  {
   "cell_type": "code",
   "execution_count": 3,
   "metadata": {
    "collapsed": false
   },
   "outputs": [
    {
     "name": "stderr",
     "output_type": "stream",
     "text": [
      "/usr0/home/glample/anaconda2/lib/python2.7/site-packages/theano/tensor/signal/downsample.py:6: UserWarning: downsample module has been moved to the theano.tensor.signal.pool module.\n",
      "  \"downsample module has been moved to the theano.tensor.signal.pool module.\")\n"
     ]
    }
   ],
   "source": [
    "sys.path.append('/usr0/home/glample/Research/perso/UltraDeep/')\n",
    "\n",
    "from experiment import Experiment\n",
    "from learning_method import LearningMethod\n",
    "from layer import HiddenLayer, EmbeddingLayer, DropoutLayer\n",
    "from network import FastLSTM\n",
    "from convolution import Conv2DLayer"
   ]
  },
  {
   "cell_type": "code",
   "execution_count": 4,
   "metadata": {
    "collapsed": false
   },
   "outputs": [
    {
     "name": "stdout",
     "output_type": "stream",
     "text": [
      "Found 42759 images\n"
     ]
    }
   ],
   "source": [
    "data_path = '/usr0/home/glample/Research/kaggle/DataScienceGame/data/'\n",
    "\n",
    "images_path = os.path.join(data_path, 'roof_images')\n",
    "images_filenames = [f for f in os.listdir(images_path) if os.path.isfile(os.path.join(images_path, f))]\n",
    "print('Found %i images' % len(images_filenames))"
   ]
  },
  {
   "cell_type": "code",
   "execution_count": 5,
   "metadata": {
    "collapsed": false
   },
   "outputs": [
    {
     "name": "stdout",
     "output_type": "stream",
     "text": [
      "Found 7987 elements\n"
     ]
    }
   ],
   "source": [
    "id_to_img = {}\n",
    "img_to_id = {}\n",
    "for i, line in enumerate(open(os.path.join(data_path, 'id_train.csv'))):\n",
    "    if i == 0:\n",
    "        continue\n",
    "    line = line.rstrip().split(',')\n",
    "    assert len(line) == 2 and line[1].isdigit() and (line[0].isdigit() or line[0][0] == '-' and line[0][1:].isdigit())\n",
    "    assert int(line[0]) not in img_to_id\n",
    "    img_to_id[int(line[0])] = i - 1\n",
    "    if int(line[0]) < 0: # TODO: why are ID negative?????\n",
    "        continue\n",
    "    image_path = os.path.join(images_path, '%i.jpg' % abs(int(line[0])))\n",
    "    assert os.path.isfile(image_path), image_path\n",
    "    id_to_img[i - 1] = {\n",
    "        'img_id': int(line[0]),\n",
    "        'label': int(line[1]),\n",
    "        'image': scipy.misc.imread(image_path)\n",
    "    }\n",
    "print('Found %i elements' % len(id_to_img))\n",
    "# print(len([True for k, v in id_to_img.items() if v['img_id'] > 0]))\n",
    "# print(len([True for k, v in id_to_img.items() if v['img_id'] <= 0]))"
   ]
  },
  {
   "cell_type": "code",
   "execution_count": null,
   "metadata": {
    "collapsed": true
   },
   "outputs": [],
   "source": []
  },
  {
   "cell_type": "code",
   "execution_count": 6,
   "metadata": {
    "collapsed": true
   },
   "outputs": [],
   "source": [
    "def process_image(image, gray, height, width):\n",
    "    image = image.astype(np.float32).mean(axis=2) if gray else image\n",
    "    if image.shape[:2] != (height, width):\n",
    "        image = cv2.resize(image, (width, height), interpolation=cv2.INTER_AREA)\n",
    "    return image if gray else image.transpose(2, 0, 1)"
   ]
  },
  {
   "cell_type": "code",
   "execution_count": 7,
   "metadata": {
    "collapsed": false
   },
   "outputs": [],
   "source": [
    "x_data = [(process_image(v['image'], False, 80, 80).astype(np.float32) / 255., v['label'] - 1) for k, v in id_to_img.items()]\n",
    "x_data, y_data = zip(*x_data)"
   ]
  },
  {
   "cell_type": "code",
   "execution_count": null,
   "metadata": {
    "collapsed": true
   },
   "outputs": [],
   "source": []
  },
  {
   "cell_type": "code",
   "execution_count": 8,
   "metadata": {
    "collapsed": false
   },
   "outputs": [],
   "source": [
    "dropout_rate = 0.5\n",
    "hidden_layer_size = 128\n",
    "\n",
    "is_train = T.iscalar()\n",
    "x_indexes = T.ivector()\n",
    "x_image = T.ftensor4()\n",
    "y_image = T.ivector()\n",
    "\n",
    "# 2 convolutions\n",
    "conv_layer1 = Conv2DLayer(20, 3, 8, 8, 'valid', (4, 4), 'conv_layer1')\n",
    "conv_layer2 = Conv2DLayer(64, 20, 8, 8, 'valid', (2, 2), 'conv_layer2')\n",
    "conv_output = conv_layer2.link(conv_layer1.link(x_image)).reshape((x_image.shape[0], 64 * 6 * 6))\n",
    "# print('conv_output', conv_output.eval({x_image: np.random.rand(2, 3, 80, 80).astype(np.float32)}).shape)\n",
    "\n",
    "# dropout layer\n",
    "dropout_layer1 = DropoutLayer(p=dropout_rate)\n",
    "conv_output = T.switch(T.neq(is_train, 0), dropout_layer1.link(conv_output), (1 - dropout_rate) * conv_output)\n",
    "\n",
    "# hidden layer\n",
    "hidden_layer = HiddenLayer(64 * 6 * 6, hidden_layer_size)\n",
    "hidden_output = hidden_layer.link(conv_output)\n",
    "# print('hidden_output', hidden_output.eval({is_train: 0, x_image: np.random.rand(2, 3, 80, 80).astype(np.float32)}).shape)\n",
    "\n",
    "# dropout layer\n",
    "dropout_layer2 = DropoutLayer(p=dropout_rate)\n",
    "hidden_output = T.switch(T.neq(is_train, 0), dropout_layer2.link(hidden_output), (1 - dropout_rate) * hidden_output)\n",
    "\n",
    "# final layer\n",
    "final_layer = HiddenLayer(hidden_layer_size, 4, activation='softmax')\n",
    "final_output = final_layer.link(hidden_output)\n",
    "# print('final_output', final_output.eval({is_train: 0, x_image: np.random.rand(2, 3, 80, 80).astype(np.float32)}).shape)\n",
    "\n",
    "# cost\n",
    "cost = T.nnet.categorical_crossentropy(final_output, y_image).mean()\n",
    "# print('cost', cost.eval({is_train: 1, x_image: np.random.rand(2, 3, 80, 80).astype(np.float32), y_image: np.random.randint(0, 4, (2,)).astype(np.int32)}))"
   ]
  },
  {
   "cell_type": "code",
   "execution_count": 9,
   "metadata": {
    "collapsed": false
   },
   "outputs": [],
   "source": [
    "params = conv_layer1.params + conv_layer2.params + hidden_layer.params + final_layer.params\n",
    "lr_method_parameters = {}\n",
    "\n",
    "f_eval = theano.function(\n",
    "    inputs=[x_image],\n",
    "    outputs=final_output,\n",
    "    givens={is_train: np.cast['int32'](0)}\n",
    ")\n",
    "\n",
    "f_train = theano.function(\n",
    "    inputs=[x_image, y_image],\n",
    "    outputs=cost,\n",
    "    updates=LearningMethod(clip=5.0).get_updates('sgd', cost, params, **lr_method_parameters),\n",
    "    givens={is_train: np.cast['int32'](1)}\n",
    ")"
   ]
  },
  {
   "cell_type": "code",
   "execution_count": 10,
   "metadata": {
    "collapsed": false
   },
   "outputs": [],
   "source": [
    "def evaluate(x, y, batch_size=100):\n",
    "    count_correct = 0\n",
    "    for i in xrange(0, len(x), batch_size):\n",
    "        count_correct += np.sum(f_eval(x[i:i + batch_size]).argmax(axis=1) == y[i:i + batch_size])\n",
    "    return count_correct * 1.0 / len(x)"
   ]
  },
  {
   "cell_type": "code",
   "execution_count": 11,
   "metadata": {
    "collapsed": false,
    "scrolled": false
   },
   "outputs": [
    {
     "name": "stdout",
     "output_type": "stream",
     "text": [
      "Starting epoch 0...\n",
      "   100 - 1.34168386459\n",
      "   200 - 1.33930647373\n",
      "   300 - 1.31409776211\n",
      "   400 - 1.36630141735\n",
      "   500 - 1.24309694767\n",
      "   600 - 1.30089902878\n",
      "   700 - 1.20569980145\n",
      "   800 - 1.2770011425\n",
      "   900 - 1.30267369747\n",
      "  1000 - 1.27682614326\n",
      "  1100 - 1.31822216511\n",
      "  1200 - 1.37841916084\n",
      "  1300 - 1.19296646118\n",
      "  1400 - 1.29016053677\n",
      "  1500 - 1.35383450985\n",
      "  1600 - 1.36804139614\n",
      "  1700 - 1.32413160801\n",
      "  1800 - 1.38103473186\n",
      "  1900 - 1.34330058098\n",
      "  2000 - 1.36027741432\n",
      "  2100 - 1.28671419621\n",
      "  2200 - 1.30860304832\n",
      "  2300 - 1.34086728096\n",
      "  2400 - 1.29853236675\n",
      "  2500 - 1.30052947998\n",
      "  2600 - 1.32884657383\n",
      "  2700 - 1.20669269562\n",
      "  2800 - 1.26778256893\n",
      "  2900 - 1.38209676743\n",
      "  3000 - 1.29605662823\n",
      "  3100 - 1.23615825176\n",
      "  3200 - 1.3115196228\n",
      "  3300 - 1.288220644\n",
      "  3400 - 1.20944833755\n",
      "  3500 - 1.29487192631\n",
      "  3600 - 1.24922406673\n",
      "  3700 - 1.32376587391\n",
      "  3800 - 1.28202617168\n",
      "  3900 - 1.18968498707\n",
      "  4000 - 1.28105258942\n",
      "  4100 - 1.26003086567\n",
      "  4200 - 1.17896854877\n",
      "  4300 - 1.13183045387\n",
      "  4400 - 1.27211642265\n",
      "  4500 - 1.27713704109\n",
      "  4600 - 1.28697156906\n",
      "  4700 - 1.19189655781\n",
      "  4800 - 1.16976380348\n",
      "  4900 - 1.13413906097\n",
      "  5000 - 1.13356029987\n",
      "  5100 - 1.27922439575\n",
      "  5200 - 1.20864224434\n",
      "  5300 - 1.16571760178\n",
      "  5400 - 1.31671798229\n",
      "  5500 - 1.14157438278\n",
      "  5600 - 1.15460669994\n",
      "  5700 - 1.23729205132\n",
      "  5800 - 1.25343096256\n",
      "  5900 - 1.16517364979\n",
      "  6000 - 1.28648543358\n",
      "Epoch 0 done.\n",
      "Time: 41.72997 - New accuracy: 0.51283 - Best: 0.51283\n",
      "Starting epoch 1...\n",
      "  6100 - 1.17658674717\n",
      "  6200 - 1.04367530346\n",
      "  6300 - 1.14268159866\n",
      "  6400 - 1.0615568161\n",
      "  6500 - 1.2402806282\n",
      "  6600 - 1.25250911713\n",
      "  6700 - 1.23810732365\n",
      "  6800 - 1.2303071022\n",
      "  6900 - 0.997723400593\n",
      "  7000 - 1.23021543026\n",
      "  7100 - 1.15415036678\n",
      "  7200 - 1.30690610409\n",
      "  7300 - 1.23731529713\n",
      "  7400 - 1.26235616207\n",
      "  7500 - 1.09605252743\n",
      "  7600 - 0.940771281719\n",
      "  7700 - 1.08328342438\n",
      "  7800 - 1.04860126972\n",
      "  7900 - 1.13070690632\n",
      "  8000 - 1.15663123131\n",
      "  8100 - 1.17612409592\n",
      "  8200 - 1.22600078583\n",
      "  8300 - 1.24142599106\n",
      "  8400 - 1.16150188446\n",
      "  8500 - 1.18385016918\n",
      "  8600 - 1.06291270256\n",
      "  8700 - 1.08224010468\n",
      "  8800 - 1.2106667757\n",
      "  8900 - 1.20931017399\n",
      "  9000 - 1.14567494392\n",
      "  9100 - 0.999060034752\n",
      "  9200 - 1.04985034466\n",
      "  9300 - 1.06437861919\n",
      "  9400 - 1.17055010796\n",
      "  9500 - 0.942160964012\n",
      "  9600 - 1.151866436\n",
      "  9700 - 1.04484307766\n",
      "  9800 - 1.21092188358\n",
      "  9900 - 1.15923988819\n",
      " 10000 - 1.12687456608\n",
      " 10100 - 1.16839933395\n",
      " 10200 - 1.13304972649\n",
      " 10300 - 0.982877790928\n",
      " 10400 - 1.08142733574\n",
      " 10500 - 1.02822303772\n",
      " 10600 - 0.983901619911\n",
      " 10700 - 1.17056667805\n",
      " 10800 - 1.07318890095\n",
      " 10900 - 0.955569148064\n",
      " 11000 - 1.09330952168\n",
      " 11100 - 1.04462850094\n",
      " 11200 - 1.06064379215\n",
      " 11300 - 0.977808177471\n",
      " 11400 - 0.961578607559\n",
      " 11500 - 0.928958535194\n",
      " 11600 - 0.941432774067\n",
      " 11700 - 1.05976688862\n",
      " 11800 - 1.09200632572\n",
      " 11900 - 1.06740188599\n",
      " 12000 - 1.13809490204\n",
      "Epoch 1 done.\n",
      "Time: 82.20811 - New accuracy: 0.60091 - Best: 0.60091\n",
      "Starting epoch 2...\n",
      " 12100 - 1.06566572189\n",
      " 12200 - 1.07762241364\n",
      " 12300 - 0.93663328886\n",
      " 12400 - 0.992843091488\n",
      " 12500 - 1.03281712532\n",
      " 12600 - 1.07067894936\n"
     ]
    },
    {
     "ename": "KeyboardInterrupt",
     "evalue": "",
     "output_type": "error",
     "traceback": [
      "\u001b[1;31m---------------------------------------------------------------------------\u001b[0m",
      "\u001b[1;31mKeyboardInterrupt\u001b[0m                         Traceback (most recent call last)",
      "\u001b[1;32m<ipython-input-11-3d3e828136a3>\u001b[0m in \u001b[0;36m<module>\u001b[1;34m()\u001b[0m\n\u001b[0;32m     18\u001b[0m     \u001b[1;32mfor\u001b[0m \u001b[0mj\u001b[0m \u001b[1;32min\u001b[0m \u001b[0mxrange\u001b[0m\u001b[1;33m(\u001b[0m\u001b[1;36m0\u001b[0m\u001b[1;33m,\u001b[0m \u001b[0mlen\u001b[0m\u001b[1;33m(\u001b[0m\u001b[0mx_train\u001b[0m\u001b[1;33m)\u001b[0m\u001b[1;33m,\u001b[0m \u001b[0mbatch_size\u001b[0m\u001b[1;33m)\u001b[0m\u001b[1;33m:\u001b[0m\u001b[1;33m\u001b[0m\u001b[0m\n\u001b[0;32m     19\u001b[0m         \u001b[0mcount\u001b[0m \u001b[1;33m+=\u001b[0m \u001b[1;36m1\u001b[0m\u001b[1;33m\u001b[0m\u001b[0m\n\u001b[1;32m---> 20\u001b[1;33m         \u001b[0mnew_cost\u001b[0m \u001b[1;33m=\u001b[0m \u001b[0mf_train\u001b[0m\u001b[1;33m(\u001b[0m\u001b[0mx_train\u001b[0m\u001b[1;33m[\u001b[0m\u001b[0mj\u001b[0m\u001b[1;33m:\u001b[0m\u001b[0mj\u001b[0m \u001b[1;33m+\u001b[0m \u001b[0mbatch_size\u001b[0m\u001b[1;33m]\u001b[0m\u001b[1;33m,\u001b[0m \u001b[0my_train\u001b[0m\u001b[1;33m[\u001b[0m\u001b[0mj\u001b[0m\u001b[1;33m:\u001b[0m\u001b[0mj\u001b[0m \u001b[1;33m+\u001b[0m \u001b[0mbatch_size\u001b[0m\u001b[1;33m]\u001b[0m\u001b[1;33m)\u001b[0m\u001b[1;33m\u001b[0m\u001b[0m\n\u001b[0m\u001b[0;32m     21\u001b[0m         \u001b[0mlast_costs\u001b[0m\u001b[1;33m.\u001b[0m\u001b[0mappend\u001b[0m\u001b[1;33m(\u001b[0m\u001b[0mnew_cost\u001b[0m\u001b[1;33m)\u001b[0m\u001b[1;33m\u001b[0m\u001b[0m\n\u001b[0;32m     22\u001b[0m         \u001b[1;32mif\u001b[0m \u001b[0mcount\u001b[0m \u001b[1;33m%\u001b[0m \u001b[1;36m100\u001b[0m \u001b[1;33m==\u001b[0m \u001b[1;36m0\u001b[0m\u001b[1;33m:\u001b[0m\u001b[1;33m\u001b[0m\u001b[0m\n",
      "\u001b[1;32m/usr0/home/glample/anaconda2/lib/python2.7/site-packages/theano/compile/function_module.pyc\u001b[0m in \u001b[0;36m__call__\u001b[1;34m(self, *args, **kwargs)\u001b[0m\n\u001b[0;32m    857\u001b[0m         \u001b[0mt0_fn\u001b[0m \u001b[1;33m=\u001b[0m \u001b[0mtime\u001b[0m\u001b[1;33m.\u001b[0m\u001b[0mtime\u001b[0m\u001b[1;33m(\u001b[0m\u001b[1;33m)\u001b[0m\u001b[1;33m\u001b[0m\u001b[0m\n\u001b[0;32m    858\u001b[0m         \u001b[1;32mtry\u001b[0m\u001b[1;33m:\u001b[0m\u001b[1;33m\u001b[0m\u001b[0m\n\u001b[1;32m--> 859\u001b[1;33m             \u001b[0moutputs\u001b[0m \u001b[1;33m=\u001b[0m \u001b[0mself\u001b[0m\u001b[1;33m.\u001b[0m\u001b[0mfn\u001b[0m\u001b[1;33m(\u001b[0m\u001b[1;33m)\u001b[0m\u001b[1;33m\u001b[0m\u001b[0m\n\u001b[0m\u001b[0;32m    860\u001b[0m         \u001b[1;32mexcept\u001b[0m \u001b[0mException\u001b[0m\u001b[1;33m:\u001b[0m\u001b[1;33m\u001b[0m\u001b[0m\n\u001b[0;32m    861\u001b[0m             \u001b[1;32mif\u001b[0m \u001b[0mhasattr\u001b[0m\u001b[1;33m(\u001b[0m\u001b[0mself\u001b[0m\u001b[1;33m.\u001b[0m\u001b[0mfn\u001b[0m\u001b[1;33m,\u001b[0m \u001b[1;34m'position_of_error'\u001b[0m\u001b[1;33m)\u001b[0m\u001b[1;33m:\u001b[0m\u001b[1;33m\u001b[0m\u001b[0m\n",
      "\u001b[1;31mKeyboardInterrupt\u001b[0m: "
     ]
    }
   ],
   "source": [
    "x_train = x_data[:6000]\n",
    "y_train = y_data[:6000]\n",
    "x_valid = x_data[6000:]\n",
    "y_valid = y_data[6000:]\n",
    "\n",
    "batch_size = 1\n",
    "n_epochs = 1000000\n",
    "best_accuracy = -1\n",
    "count = 0\n",
    "last_costs = []\n",
    "start = time.time()\n",
    "\n",
    "for n_epoch in xrange(n_epochs):\n",
    "    print('Starting epoch %i...' % n_epoch)\n",
    "    perm = np.random.permutation(len(x_train))\n",
    "    x_train = [x_train[i] for i in perm]\n",
    "    y_train = [y_train[i] for i in perm]\n",
    "    for j in xrange(0, len(x_train), batch_size):\n",
    "        count += 1\n",
    "        new_cost = f_train(x_train[j:j + batch_size], y_train[j:j + batch_size])\n",
    "        last_costs.append(new_cost)\n",
    "        if count % 100 == 0:\n",
    "            print('{0:>6} - {1}'.format(count, np.mean(last_costs)))\n",
    "            last_costs = []\n",
    "    new_accuracy = evaluate(x_valid, y_valid)\n",
    "    if new_accuracy > best_accuracy:\n",
    "        best_accuracy = new_accuracy\n",
    "    print('Epoch %i done.' % n_epoch)\n",
    "    print('Time: %.5f - New accuracy: %.5f - Best: %.5f' % (time.time() - start, new_accuracy, best_accuracy))"
   ]
  },
  {
   "cell_type": "code",
   "execution_count": null,
   "metadata": {
    "collapsed": true
   },
   "outputs": [],
   "source": []
  },
  {
   "cell_type": "code",
   "execution_count": null,
   "metadata": {
    "collapsed": true
   },
   "outputs": [],
   "source": []
  },
  {
   "cell_type": "code",
   "execution_count": null,
   "metadata": {
    "collapsed": true
   },
   "outputs": [],
   "source": []
  },
  {
   "cell_type": "code",
   "execution_count": null,
   "metadata": {
    "collapsed": true
   },
   "outputs": [],
   "source": []
  },
  {
   "cell_type": "code",
   "execution_count": null,
   "metadata": {
    "collapsed": true
   },
   "outputs": [],
   "source": []
  },
  {
   "cell_type": "code",
   "execution_count": null,
   "metadata": {
    "collapsed": true
   },
   "outputs": [],
   "source": []
  },
  {
   "cell_type": "code",
   "execution_count": 56,
   "metadata": {
    "collapsed": false
   },
   "outputs": [],
   "source": []
  },
  {
   "cell_type": "code",
   "execution_count": 57,
   "metadata": {
    "collapsed": false
   },
   "outputs": [],
   "source": []
  },
  {
   "cell_type": "code",
   "execution_count": 75,
   "metadata": {
    "collapsed": false
   },
   "outputs": [],
   "source": [
    "\n"
   ]
  },
  {
   "cell_type": "code",
   "execution_count": null,
   "metadata": {
    "collapsed": false
   },
   "outputs": [],
   "source": [
    "# look at the different image shapes\n",
    "# the ratio heigth / width can be very big / small, so resizing as a square may hurt a lot\n",
    "\n",
    "shapes = [v['image'].shape for v in id_to_img.values()]\n",
    "assert all(x[2] == 3 for x in shapes)\n",
    "shapes = np.array([x[:2] for x in shapes])\n",
    "\n",
    "print(shapes[:, 0].min())\n",
    "print(shapes[:, 0].max())\n",
    "print(shapes[:, 0].mean())\n",
    "print\n",
    "print(shapes[:, 1].min())\n",
    "print(shapes[:, 1].max())\n",
    "print(shapes[:, 1].mean())\n",
    "print\n",
    "print((shapes[:, 0].astype(np.float32) / shapes[:, 1].astype(np.float32)).min())\n",
    "print((shapes[:, 0].astype(np.float32) / shapes[:, 1].astype(np.float32)).max())\n",
    "print((shapes[:, 0].astype(np.float32) / shapes[:, 1].astype(np.float32)).mean())"
   ]
  },
  {
   "cell_type": "code",
   "execution_count": null,
   "metadata": {
    "collapsed": false,
    "scrolled": false
   },
   "outputs": [],
   "source": [
    "#########\n",
    "#########    ignore this\n",
    "#########    GPU VERSION (store the dataset on GPU, not much faster though)\n",
    "#########\n",
    "\n",
    "\n",
    "x_train = np.array(x_data[:6000]).astype(np.float32)\n",
    "y_train = np.array(y_data[:6000]).astype(np.int32)\n",
    "x_valid = np.array(x_data[6000:]).astype(np.float32)\n",
    "y_valid = np.array(y_data[6000:]).astype(np.int32)\n",
    "x_train_shared = theano.shared(x_train)\n",
    "y_train_shared = theano.shared(y_train)\n",
    "x_valid_shared = theano.shared(x_valid)\n",
    "y_valid_shared = theano.shared(y_valid)\n",
    "\n",
    "\n",
    "\n",
    "\n",
    "\n",
    "\n",
    "\n",
    "\n",
    "params = conv_layer1.params + conv_layer2.params + hidden_layer.params + final_layer.params\n",
    "lr_method_parameters = {}\n",
    "\n",
    "f_eval = theano.function(\n",
    "    inputs=[x_indexes],\n",
    "    outputs=final_output,\n",
    "    givens={is_train: np.cast['int32'](0), x_image: x_valid_shared[x_indexes]}\n",
    ")\n",
    "\n",
    "f_train = theano.function(\n",
    "    inputs=[x_indexes],\n",
    "    outputs=cost,\n",
    "    updates=LearningMethod(5.0).get_updates('sgd', cost, params, **lr_method_parameters),\n",
    "    givens={is_train: np.cast['int32'](1), x_image: x_train_shared[x_indexes], y_image: y_train_shared[x_indexes]}\n",
    ")\n",
    "\n",
    "\n",
    "\n",
    "\n",
    "\n",
    "\n",
    "\n",
    "\n",
    "\n",
    "\n",
    "def evaluate(batch_size=100):\n",
    "    count_correct = 0\n",
    "    eval_size = len(x_valid)\n",
    "    for i in xrange(0, eval_size, batch_size):\n",
    "        # count_correct += np.sum(f_eval(x[i:i + batch_size]).argmax(axis=1) == y[i:i + batch_size])\n",
    "        count_correct += np.sum(f_eval(np.arange(i, min(i + batch_size, len(x_valid)), dtype=np.int32)).argmax(axis=1) == y_valid[i:i + batch_size])\n",
    "    return count_correct * 1.0 / eval_size\n",
    "\n",
    "\n",
    "\n",
    "\n",
    "\n",
    "\n",
    "\n",
    "\n",
    "\n",
    "batch_size = 1\n",
    "n_epochs = 1000000\n",
    "best_accuracy = -1\n",
    "count = 0\n",
    "last_costs = []\n",
    "start = time.time()\n",
    "\n",
    "for i in xrange(n_epochs):\n",
    "    perm = np.random.permutation(len(x_train)).astype(np.int32)\n",
    "    for j in xrange(0, len(perm), batch_size):\n",
    "        count += 1\n",
    "        new_cost = f_train(perm[j:j + batch_size])\n",
    "        last_costs.append(new_cost)\n",
    "        if count % 500 == 0:\n",
    "            print(count, np.mean(last_costs))\n",
    "            last_costs = []\n",
    "    new_accuracy = evaluate()\n",
    "    if new_accuracy > best_accuracy:\n",
    "        best_accuracy = new_accuracy\n",
    "    print('%f - New accuracy: %f - Best: %f' % (time.time() - start, new_accuracy, best_accuracy))"
   ]
  },
  {
   "cell_type": "code",
   "execution_count": null,
   "metadata": {
    "collapsed": true
   },
   "outputs": [],
   "source": []
  },
  {
   "cell_type": "code",
   "execution_count": null,
   "metadata": {
    "collapsed": true
   },
   "outputs": [],
   "source": []
  }
 ],
 "metadata": {
  "kernelspec": {
   "display_name": "Python 2",
   "language": "python",
   "name": "python2"
  },
  "language_info": {
   "codemirror_mode": {
    "name": "ipython",
    "version": 2
   },
   "file_extension": ".py",
   "mimetype": "text/x-python",
   "name": "python",
   "nbconvert_exporter": "python",
   "pygments_lexer": "ipython2",
   "version": "2.7.11"
  }
 },
 "nbformat": 4,
 "nbformat_minor": 0
}
